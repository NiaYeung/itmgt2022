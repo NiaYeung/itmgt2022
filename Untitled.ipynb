{
 "cells": [
  {
   "cell_type": "code",
   "execution_count": 12,
   "id": "5e141cf0-f546-4230-8201-9ca586f8dd32",
   "metadata": {},
   "outputs": [],
   "source": [
    "import numpy as np\n",
    "\n",
    "def tic_tac_toe(board):\n",
    "    for b in (board, np.transpose(board)):\n",
    "        for row in b:\n",
    "            if len(set(row)) == 1:\n",
    "                return row[0]\n",
    "    downwards_diagonal = [board[i][i] for i in range(len(board))]\n",
    "    upwards_diagonal = [board[i][len(board) - 1 - i] for i in range(len(board))]\n",
    "    if len(set(downwards_diagonal)) == 1:\n",
    "        return board[0][0]\n",
    "    if len(set(upwards_diagonal)) == 1:\n",
    "        return board[0][len(board)-1]\n",
    "    return \"NO WINNER\"\n",
    "\n",
    "\n",
    "board1 = [\n",
    "['X','X','O'],\n",
    "['O','X','O'],\n",
    "['O','','X'],\n",
    "]\n",
    "\n",
    "board2 = [\n",
    "['X','X','O'],\n",
    "['O','X','O'],\n",
    "['','O','X'],\n",
    "]\n",
    "\n",
    "board3 = [\n",
    "['O','X','O'],\n",
    "['','O','X'],\n",
    "['X','X','O'],\n",
    "]\n",
    "\n",
    "board4 = [\n",
    "['X','X','X'],\n",
    "['O','X','O'],\n",
    "['O','','O'],\n",
    "]\n",
    "\n",
    "board5 = [\n",
    "['X','X','O'],\n",
    "['O','X','O'],\n",
    "['X','','O'],\n",
    "]\n",
    "\n",
    "board6 = [\n",
    "['X','X','O'],\n",
    "['O','X','O'],\n",
    "['X','',''],\n",
    "]\n",
    "\n",
    "board7 = [\n",
    "['X','X','O',''],\n",
    "['O','X','O','O'],\n",
    "['X','','','O'],\n",
    "['O','X','','']\n",
    "]"
   ]
  },
  {
   "cell_type": "code",
   "execution_count": 18,
   "id": "b028dc50-df95-4937-9b17-0827b47dc1c7",
   "metadata": {},
   "outputs": [
    {
     "data": {
      "text/plain": [
       "'O'"
      ]
     },
     "execution_count": 18,
     "metadata": {},
     "output_type": "execute_result"
    }
   ],
   "source": [
    "tic_tac_toe(board5)"
   ]
  },
  {
   "cell_type": "code",
   "execution_count": 17,
   "id": "4b059ec5-480c-4b81-af73-a1a6a2048dbd",
   "metadata": {},
   "outputs": [
    {
     "data": {
      "text/plain": [
       "'X'"
      ]
     },
     "execution_count": 17,
     "metadata": {},
     "output_type": "execute_result"
    }
   ],
   "source": [
    "tic_tac_toe(board1)"
   ]
  },
  {
   "cell_type": "code",
   "execution_count": 19,
   "id": "ceec44ac-0f70-4eeb-ac6f-c3403c5338ab",
   "metadata": {},
   "outputs": [
    {
     "data": {
      "text/plain": [
       "'NO WINNER'"
      ]
     },
     "execution_count": 19,
     "metadata": {},
     "output_type": "execute_result"
    }
   ],
   "source": [
    "tic_tac_toe(board7)"
   ]
  },
  {
   "cell_type": "code",
   "execution_count": null,
   "id": "11cc513e-258e-4233-93be-17e7a436498e",
   "metadata": {},
   "outputs": [],
   "source": []
  }
 ],
 "metadata": {
  "kernelspec": {
   "display_name": "Python 3 (ipykernel)",
   "language": "python",
   "name": "python3"
  },
  "language_info": {
   "codemirror_mode": {
    "name": "ipython",
    "version": 3
   },
   "file_extension": ".py",
   "mimetype": "text/x-python",
   "name": "python",
   "nbconvert_exporter": "python",
   "pygments_lexer": "ipython3",
   "version": "3.9.12"
  }
 },
 "nbformat": 4,
 "nbformat_minor": 5
}
