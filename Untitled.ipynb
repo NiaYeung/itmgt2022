{
 "cells": [
  {
   "cell_type": "code",
   "execution_count": 21,
   "id": "5e141cf0-f546-4230-8201-9ca586f8dd32",
   "metadata": {},
   "outputs": [],
   "source": [
    "import numpy as np\n",
    "\n",
    "def tic_tac_toe(board):\n",
    "    for b in (board, np.transpose(board)):\n",
    "        for row in b:\n",
    "            if len(set(row)) == 1:\n",
    "                return row[0]\n",
    "    downwards_diagonal = [board[i][i] for i in range(len(board))]\n",
    "    upwards_diagonal = [board[i][len(board) - 1 - i] for i in range(len(board))]\n",
    "    if len(set(downwards_diagonal)) == 1:\n",
    "        return board[0][0]\n",
    "    if len(set(upwards_diagonal)) == 1:\n",
    "        return board[0][len(board)-1]\n",
    "    return \"NO WINNER\"\n",
    "\n",
    "\n",
    "board1 = [\n",
    "['X','X','O'],\n",
    "['O','X','O'],\n",
    "['O','','X'],\n",
    "]\n",
    "\n",
    "board2 = [\n",
    "['X','X','O'],\n",
    "['O','X','O'],\n",
    "['','O','X'],\n",
    "]\n",
    "\n",
    "board3 = [\n",
    "['O','X','O'],\n",
    "['','O','X'],\n",
    "['X','X','O'],\n",
    "]\n",
    "\n",
    "board4 = [\n",
    "['X','X','X'],\n",
    "['O','X','O'],\n",
    "['O','','O'],\n",
    "]\n",
    "\n",
    "board5 = [\n",
    "['X','X','O'],\n",
    "['O','X','O'],\n",
    "['X','','O'],\n",
    "]\n",
    "\n",
    "board6 = [\n",
    "['X','X','O'],\n",
    "['O','X','O'],\n",
    "['X','',''],\n",
    "]\n",
    "\n",
    "board7 = [\n",
    "['X','X','O',''],\n",
    "['O','X','O','O'],\n",
    "['X','','','O'],\n",
    "['O','X','','']\n",
    "]\n",
    "\n",
    "board8 = [\n",
    "['O','O','X','','','O'],\n",
    "['X','O','X','','X','O'],\n",
    "['O','','','O','X','O'],\n",
    "['X','X','O','','','O']\n",
    "]"
   ]
  },
  {
   "cell_type": "code",
   "execution_count": 22,
   "id": "b028dc50-df95-4937-9b17-0827b47dc1c7",
   "metadata": {},
   "outputs": [
    {
     "data": {
      "text/plain": [
       "'O'"
      ]
     },
     "execution_count": 22,
     "metadata": {},
     "output_type": "execute_result"
    }
   ],
   "source": [
    "tic_tac_toe(board8)"
   ]
  },
  {
   "cell_type": "code",
   "execution_count": 17,
   "id": "4b059ec5-480c-4b81-af73-a1a6a2048dbd",
   "metadata": {},
   "outputs": [
    {
     "data": {
      "text/plain": [
       "'X'"
      ]
     },
     "execution_count": 17,
     "metadata": {},
     "output_type": "execute_result"
    }
   ],
   "source": [
    "tic_tac_toe(board1)"
   ]
  },
  {
   "cell_type": "code",
   "execution_count": 19,
   "id": "ceec44ac-0f70-4eeb-ac6f-c3403c5338ab",
   "metadata": {},
   "outputs": [
    {
     "data": {
      "text/plain": [
       "'NO WINNER'"
      ]
     },
     "execution_count": 19,
     "metadata": {},
     "output_type": "execute_result"
    }
   ],
   "source": [
    "tic_tac_toe(board7)"
   ]
  },
  {
   "cell_type": "code",
   "execution_count": 23,
   "id": "11cc513e-258e-4233-93be-17e7a436498e",
   "metadata": {},
   "outputs": [
    {
     "data": {
      "text/plain": [
       "'O'"
      ]
     },
     "execution_count": 23,
     "metadata": {},
     "output_type": "execute_result"
    }
   ],
   "source": [
    "tic_tac_toe([['X','X','O','O'], ['O','X','O','O'],\n",
    "['X','','','O'],\n",
    "['O','X','','O']])"
   ]
  },
  {
   "cell_type": "code",
   "execution_count": 38,
   "id": "1bd6b973-1a67-4824-9897-2d3d6fbab38a",
   "metadata": {},
   "outputs": [],
   "source": [
    "social_graph = {\n",
    "    \"@bongolpoc\":{\"first_name\":\"Joselito\",\n",
    "                  \"last_name\":\"Olpoc\",\n",
    "                  \"following\":[\n",
    "                  ]\n",
    "    },\n",
    "    \"@joaquin\":  {\"first_name\":\"Joaquin\",\n",
    "                  \"last_name\":\"Gonzales\",\n",
    "                  \"following\":[\n",
    "                      \"@chums\",\"@jobenilagan\"\n",
    "                  ]\n",
    "    },\n",
    "    \"@chums\" : {\"first_name\":\"Matthew\",\n",
    "                \"last_name\":\"Uy\",\n",
    "                \"following\":[\n",
    "                    \"@bongolpoc\",\"@miketan\",\"@rudyang\",\"@joeilagan\"\n",
    "                ]\n",
    "    },\n",
    "    \"@jobenilagan\":{\"first_name\":\"Joben\",\n",
    "                   \"last_name\":\"Ilagan\",\n",
    "                   \"following\":[\n",
    "                    \"@eeebeee\",\"@joeilagan\",\"@chums\",\"@joaquin\"\n",
    "                   ]\n",
    "    },\n",
    "    \"@joeilagan\":{\"first_name\":\"Joe\",\n",
    "                  \"last_name\":\"Ilagan\",\n",
    "                  \"following\":[\n",
    "                    \"@eeebeee\",\"@jobenilagan\",\"@chums\"\n",
    "                  ]\n",
    "    },\n",
    "    \"@eeebeee\":  {\"first_name\":\"Elizabeth\",\n",
    "                  \"last_name\":\"Ilagan\",\n",
    "                  \"following\":[\n",
    "                    \"@jobenilagan\",\"@joeilagan\"\n",
    "                  ]\n",
    "    },\n",
    "}\n",
    "    \n",
    "\n",
    "def relationship_status(to_member, from_member, social_graph):\n",
    "\n",
    "    to = social_graph[to_member]\n",
    "    other = social_graph[from_member]\n",
    "    toMember = to['following']\n",
    "    fromMember = other['following']\n",
    "    if to_member in fromMember and from_member not in toMember:\n",
    "        return \"followed by\"\n",
    "    if to_member in fromMember and from_member in toMember:\n",
    "        return \"friends\"\n",
    "    if from_member in toMember and to_member not in fromMember:\n",
    "        return \"follower\"\n",
    "    if from_member not in toMember and to_member not in fromMember and to_member != from_member:\n",
    "        return \"no relationship\"\n",
    "    return \"error, please imput again\""
   ]
  },
  {
   "cell_type": "code",
   "execution_count": 34,
   "id": "a6a525b0-0597-4532-9e09-92687f45a468",
   "metadata": {},
   "outputs": [
    {
     "data": {
      "text/plain": [
       "'friends'"
      ]
     },
     "execution_count": 34,
     "metadata": {},
     "output_type": "execute_result"
    }
   ],
   "source": [
    "relationship_status(\"@jobenilagan\", \"@joeilagan\", social_graph)"
   ]
  },
  {
   "cell_type": "code",
   "execution_count": 39,
   "id": "95a203dd-9925-4417-9d7c-e6f819bc2623",
   "metadata": {},
   "outputs": [
    {
     "data": {
      "text/plain": [
       "'error, please imput again'"
      ]
     },
     "execution_count": 39,
     "metadata": {},
     "output_type": "execute_result"
    }
   ],
   "source": [
    "relationship_status(\"@jobenilagan\", \"@jobenilagan\", social_graph)"
   ]
  },
  {
   "cell_type": "code",
   "execution_count": null,
   "id": "18c825f0-ae4f-4b03-b8c0-bd47b639505b",
   "metadata": {},
   "outputs": [],
   "source": []
  }
 ],
 "metadata": {
  "kernelspec": {
   "display_name": "Python 3 (ipykernel)",
   "language": "python",
   "name": "python3"
  },
  "language_info": {
   "codemirror_mode": {
    "name": "ipython",
    "version": 3
   },
   "file_extension": ".py",
   "mimetype": "text/x-python",
   "name": "python",
   "nbconvert_exporter": "python",
   "pygments_lexer": "ipython3",
   "version": "3.9.12"
  }
 },
 "nbformat": 4,
 "nbformat_minor": 5
}
