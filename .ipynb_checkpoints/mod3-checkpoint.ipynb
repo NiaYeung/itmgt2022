{
 "cells": [
  {
   "cell_type": "code",
   "execution_count": 1,
   "id": "87bef5cc-35b7-4709-8a08-c1e782904718",
   "metadata": {},
   "outputs": [],
   "source": [
    "def shift_letter(letter, shift):\n",
    "    '''Shift Letter. \n",
    "    5 points.\n",
    "    \n",
    "    Shift a letter right by the given number.\n",
    "    Wrap the letter around if it reaches the end of the alphabet.\n",
    "    Examples:\n",
    "    shift_letter(\"A\", 0) -> \"A\"\n",
    "    shift_letter(\"A\", 2) -> \"C\"\n",
    "    shift_letter(\"Z\", 1) -> \"A\"\n",
    "    shift_letter(\"X\", 5) -> \"C\"\n",
    "    shift_letter(\" \", _) -> \" \"\n",
    "    \n",
    "    \n",
    "    *Note: the single underscore `_` is used to acknowledge the presence\n",
    "        of a value without caring about its contents.\n",
    "    Parameters\n",
    "    ----------\n",
    "    letter: str\n",
    "        a single uppercase English letter, or a space.\n",
    "    shift: int\n",
    "        the number by which to shift the letter. \n",
    "    Returns\n",
    "    -------\n",
    "    str\n",
    "        the letter, shifted appropriately, if a letter.\n",
    "        a single space if the original letter was a space.\n",
    "    '''\n",
    "    ret = \"\"\n",
    "    if (letter.isupper()):\n",
    "        ret = chr((ord(letter) + shift - 65 )%26 + 65);\n",
    "    else:\n",
    "        ret = chr((ord(letter) + shift - 97)%26 + 97);\n",
    "        \n",
    "    return ret;\n",
    "\n"
   ]
  },
  {
   "cell_type": "code",
   "execution_count": 2,
   "id": "79660d01-7dd1-410c-9b16-d4e7e51f14d6",
   "metadata": {},
   "outputs": [
    {
     "data": {
      "text/plain": [
       "'K'"
      ]
     },
     "execution_count": 2,
     "metadata": {},
     "output_type": "execute_result"
    }
   ],
   "source": [
    "shift_letter(\"H\",3)"
   ]
  },
  {
   "cell_type": "code",
   "execution_count": 3,
   "id": "c5407467-f80d-4318-8252-30baf14b6ea6",
   "metadata": {},
   "outputs": [
    {
     "data": {
      "text/plain": [
       "'C'"
      ]
     },
     "execution_count": 3,
     "metadata": {},
     "output_type": "execute_result"
    }
   ],
   "source": [
    "shift_letter(\"X\",5)"
   ]
  },
  {
   "cell_type": "code",
   "execution_count": 4,
   "id": "53c8ab7f-3b54-4ea8-b841-584f4319db8a",
   "metadata": {},
   "outputs": [
    {
     "data": {
      "text/plain": [
       "'J'"
      ]
     },
     "execution_count": 4,
     "metadata": {},
     "output_type": "execute_result"
    }
   ],
   "source": [
    "shift_letter(\"J\",26)"
   ]
  },
  {
   "cell_type": "code",
   "execution_count": 5,
   "id": "7c0cc04a-cc12-45a1-80ed-0c8f2d22f90a",
   "metadata": {},
   "outputs": [],
   "source": [
    "def caesar_cipher(message, shift):\n",
    "    '''Caesar Cipher. \n",
    "    10 points.\n",
    "    \n",
    "    Apply a shift number to a string of uppercase English letters and spaces.\n",
    "    Parameters\n",
    "    ----------\n",
    "    message: str\n",
    "        a string of uppercase English letters and spaces.\n",
    "    shift: int\n",
    "        the number by which to shift the letters. \n",
    "    Returns\n",
    "    -------\n",
    "    str\n",
    "        the message, shifted appropriately.\n",
    "    '''\n",
    "    \n",
    "   \n",
    "    ret = \"\"\n",
    "    i = 0\n",
    "    for i in range(len(message)):\n",
    "        if (message[i].isupper()):\n",
    "            ret += chr((ord(message[i]) + shift -65) % 26 + 65)\n",
    "        else:\n",
    "            ret += chr((ord(message[i]) + shift - 97) % 26 + 97)\n",
    "        \n",
    "    return ret"
   ]
  },
  {
   "cell_type": "code",
   "execution_count": 6,
   "id": "5f1e2b1d-4c12-4d8e-9532-f120eb3c9514",
   "metadata": {},
   "outputs": [
    {
     "data": {
      "text/plain": [
       "'WVSP'"
      ]
     },
     "execution_count": 6,
     "metadata": {},
     "output_type": "execute_result"
    }
   ],
   "source": [
    "caesar_cipher(\"POLI\",7)"
   ]
  },
  {
   "cell_type": "code",
   "execution_count": 7,
   "id": "c01ca6b6-580d-4ec2-962a-a559772b0329",
   "metadata": {},
   "outputs": [
    {
     "data": {
      "text/plain": [
       "'TMRK'"
      ]
     },
     "execution_count": 7,
     "metadata": {},
     "output_type": "execute_result"
    }
   ],
   "source": [
    "caesar_cipher(\"PING\",4)"
   ]
  },
  {
   "cell_type": "code",
   "execution_count": 8,
   "id": "f951657b-13f2-4ce7-b84d-6fd2ded029cf",
   "metadata": {},
   "outputs": [],
   "source": [
    "def shift_by_letter(letter, letter_shift):\n",
    "    '''Shift By Letter. \n",
    "    10 points.\n",
    "    \n",
    "    Shift a letter to the right using the number equivalent of another letter.\n",
    "    The shift letter is any letter from A to Z, where A represents 0, B represents 1, \n",
    "        ..., Z represents 25.\n",
    "    Examples:\n",
    "    shift_by_letter(\"A\", \"A\") -> \"A\"\n",
    "    shift_by_letter(\"A\", \"C\") -> \"C\"\n",
    "    shift_by_letter(\"B\", \"K\") -> \"L\"\n",
    "    shift_by_letter(\" \", _) -> \" \"\n",
    "    Parameters\n",
    "    ----------\n",
    "    letter: str\n",
    "        a single uppercase English letter, or a space.\n",
    "    letter_shift: str\n",
    "        a single uppercase English letter.\n",
    "    Returns\n",
    "    -------\n",
    "    str\n",
    "        the letter, shifted appropriately.\n",
    "    '''\n",
    "    ret = \"\"\n",
    "    if (letter.isupper()):\n",
    "        ret = chr((ord(letter) + ord(letter_shift))%26 + 65);\n",
    "    else:\n",
    "        ret = chr((ord(letter) + ord(letter_shift))%26 + 97);\n",
    "        \n",
    "    return ret;"
   ]
  },
  {
   "cell_type": "code",
   "execution_count": 9,
   "id": "add90a97-7e60-482c-9fd3-58811cbec1da",
   "metadata": {},
   "outputs": [
    {
     "data": {
      "text/plain": [
       "'C'"
      ]
     },
     "execution_count": 9,
     "metadata": {},
     "output_type": "execute_result"
    }
   ],
   "source": [
    "shift_by_letter(\"A\", \"C\")"
   ]
  },
  {
   "cell_type": "code",
   "execution_count": 10,
   "id": "4d1fcb48-df35-4199-953a-b2cdb8eaba31",
   "metadata": {},
   "outputs": [
    {
     "data": {
      "text/plain": [
       "'L'"
      ]
     },
     "execution_count": 10,
     "metadata": {},
     "output_type": "execute_result"
    }
   ],
   "source": [
    "shift_by_letter(\"B\", \"K\")"
   ]
  },
  {
   "cell_type": "code",
   "execution_count": 11,
   "id": "1adf0e08-18df-47bf-820f-34a3ef007f4f",
   "metadata": {},
   "outputs": [
    {
     "data": {
      "text/plain": [
       "'A'"
      ]
     },
     "execution_count": 11,
     "metadata": {},
     "output_type": "execute_result"
    }
   ],
   "source": [
    "shift_by_letter(\"A\", \"A\")"
   ]
  },
  {
   "cell_type": "code",
   "execution_count": 1,
   "id": "120bd7db-3cc8-4269-ac1a-d5557f974f62",
   "metadata": {},
   "outputs": [],
   "source": [
    "def vigenere_cipher(message, key):\n",
    "    '''Vigenere Cipher. \n",
    "    15 points.\n",
    "    \n",
    "    Encrypts a message using a keyphrase instead of a static number.\n",
    "    Every letter in the message is shifted by the number represented by the \n",
    "        respective letter in the key.\n",
    "    Spaces should be ignored.\n",
    "    Example:\n",
    "    vigenere_cipher(\"A C\", \"KEY\") -> \"K A\"\n",
    "    If needed, the keyphrase is extended to match the length of the key.\n",
    "        If the key is \"KEY\" and the message is \"LONGTEXT\",\n",
    "        the key will be extended to be \"KEYKEYKE\".\n",
    "    Parameters\n",
    "    ----------\n",
    "    message: str\n",
    "        a string of uppercase English letters and spaces.\n",
    "    key: str\n",
    "        a string of uppercase English letters. Will never be longer than the message.\n",
    "        Will never contain spaces.\n",
    "    Returns\n",
    "    -------\n",
    "    str\n",
    "        the message, shifted appropriately.\n",
    "    '''\n",
    "def vigenere_cipher(message, key): \n",
    "    key = list(key) \n",
    "    if len(message) == len(key): \n",
    "        return(key) \n",
    "    else: \n",
    "        for i in range(len(message) -len(key)): \n",
    "            key.append(key[i % len(key)]) \n",
    "        return(\"\" . join(key)) "
   ]
  },
  {
   "cell_type": "code",
   "execution_count": 6,
   "id": "e47b85d2-77c9-45ee-9a89-f6405e0b7bc6",
   "metadata": {},
   "outputs": [
    {
     "data": {
      "text/plain": [
       "'KEYKEYKE'"
      ]
     },
     "execution_count": 6,
     "metadata": {},
     "output_type": "execute_result"
    }
   ],
   "source": [
    "vigenere_cipher(\"LONGTEXT\",\"KEY\")"
   ]
  },
  {
   "cell_type": "code",
   "execution_count": 3,
   "id": "452676b9-ee0a-42a3-958f-c8b141254ca8",
   "metadata": {},
   "outputs": [
    {
     "data": {
      "text/plain": [
       "'PLAYPLAYP'"
      ]
     },
     "execution_count": 3,
     "metadata": {},
     "output_type": "execute_result"
    }
   ],
   "source": [
    "vigenere_cipher(\"HAPPINESS\",\"PLAY\")"
   ]
  },
  {
   "cell_type": "code",
   "execution_count": 4,
   "id": "a2f7ab6d-38b7-4b3c-8776-c1d3877cc0ea",
   "metadata": {},
   "outputs": [
    {
     "data": {
      "text/plain": [
       "['K', 'E', 'Y']"
      ]
     },
     "execution_count": 4,
     "metadata": {},
     "output_type": "execute_result"
    }
   ],
   "source": [
    "vigenere_cipher(\"A C\",\"KEY\")"
   ]
  },
  {
   "cell_type": "code",
   "execution_count": 37,
   "id": "525fd40c-f347-4291-aed5-88e27bb4f5e3",
   "metadata": {},
   "outputs": [],
   "source": [
    "def scytale_cipher(message, shift):\n",
    "    '''Scytale Cipher.\n",
    "    15 points.\n",
    "    \n",
    "    Encrypts a message by simulating a scytale cipher.\n",
    "    A scytale is a cylinder around which you can wrap a long strip of \n",
    "        parchment that contained a string of apparent gibberish. The parchment, \n",
    "        when read using the scytale, would reveal a message due to every nth \n",
    "        letter now appearing next to each other, revealing a proper message.\n",
    "    This encryption method is obsolete and should never be used to encrypt\n",
    "        data in production settings.\n",
    "    You may read more about the method here:\n",
    "        https://en.wikipedia.org/wiki/Scytale\n",
    "    You may follow this algorithm to implement a scytale-style cipher:\n",
    "    1. Take a message to be encoded and a \"shift\" number. \n",
    "        For this example, we will use \"INFORMATION_AGE\" as \n",
    "        the message and 3 as the shift.\n",
    "    2. Check if the length of the message is a multiple of \n",
    "        the shift. If it is not, add additional underscores \n",
    "        to the end of the message until it is. \n",
    "        In this example, \"INFORMATION_AGE\" is already a multiple of 3, \n",
    "        so we will leave it alone.\n",
    "    3. This is the tricky part. Construct the encoded message. \n",
    "        For each index i in the encoded message, use the character at the index\n",
    "        (i // shift) + (len(message) // shift) * (i % shift) of the raw message. \n",
    "        If this number doesn't make sense, you can play around with the cipher at\n",
    "         https://dencode.com/en/cipher/scytale to try to understand it.\n",
    "    4. Return the encoded message. In this case, \n",
    "        the output should be \"IMNNA_FTAOIGROE\".\n",
    "    Example:\n",
    "    scytale_cipher(\"INFORMATION_AGE\", 3) -> \"IMNNA_FTAOIGROE\"\n",
    "    scytale_cipher(\"INFORMATION_AGE\", 4) -> \"IRIANMOGFANEOT__\"\n",
    "    scytale_cipher(\"ALGORITHMS_ARE_IMPORTANT\", 8) -> \"AOTSRIOALRH_EMRNGIMA_PTT\"\n",
    "    Parameters\n",
    "    ----------\n",
    "    message: str\n",
    "        a string of uppercase English letters and underscores (underscores represent spaces)\n",
    "    shift: int\n",
    "        a positive int that does not exceed the length of message\n",
    "    Returns\n",
    "    -------\n",
    "    str\n",
    "        the encoded message\n",
    "    '''\n",
    "    n = len(message)\n",
    "    \n",
    "    if n%shift !=0:\n",
    "        while n%shift !=0:\n",
    "            message = message + '_'\n",
    "            n = len(message)\n",
    "    \n",
    "    ciphertext = ['_'] * n\n",
    "    \n",
    "    for i in range (n):\n",
    "        index = (i//shift) + (n//shift) * (i%shift)\n",
    "        ciphertext[i] = message[index]\n",
    "    return \"\".join(ciphertext)\n",
    "\n",
    "    "
   ]
  },
  {
   "cell_type": "code",
   "execution_count": 21,
   "id": "c2c941fe-8aa6-4d3d-aa69-922367a47465",
   "metadata": {},
   "outputs": [
    {
     "data": {
      "text/plain": [
       "'IMNNA_FTAOIGROE'"
      ]
     },
     "execution_count": 21,
     "metadata": {},
     "output_type": "execute_result"
    }
   ],
   "source": [
    "scytale_cipher(\"INFORMATION_AGE\", 3)"
   ]
  },
  {
   "cell_type": "code",
   "execution_count": 22,
   "id": "d239371d-617b-4848-8fd8-6f65608ea07b",
   "metadata": {},
   "outputs": [
    {
     "data": {
      "text/plain": [
       "'IFRAINAENOMTO_G_'"
      ]
     },
     "execution_count": 22,
     "metadata": {},
     "output_type": "execute_result"
    }
   ],
   "source": [
    "scytale_cipher(\"INFORMATION_AGE\", 8)"
   ]
  },
  {
   "cell_type": "code",
   "execution_count": 23,
   "id": "30e1275b-6037-4c0e-a769-60605bf8abd4",
   "metadata": {},
   "outputs": [
    {
     "data": {
      "text/plain": [
       "'MEIG_ETN__'"
      ]
     },
     "execution_count": 23,
     "metadata": {},
     "output_type": "execute_result"
    }
   ],
   "source": [
    "scytale_cipher(\"MEETING\", 5)"
   ]
  },
  {
   "cell_type": "code",
   "execution_count": 38,
   "id": "b731feee-1f3c-48c7-b10e-42a96bc21b6a",
   "metadata": {},
   "outputs": [
    {
     "data": {
      "text/plain": [
       "'PS_T_LEW_AE_AA_AINN_'"
      ]
     },
     "execution_count": 38,
     "metadata": {},
     "output_type": "execute_result"
    }
   ],
   "source": [
    "scytale_cipher(\"PLEASE_I_WANT_AN_A\", 5)"
   ]
  },
  {
   "cell_type": "code",
   "execution_count": 33,
   "id": "95feb42e-6d31-4146-8df0-8db3d9739cf3",
   "metadata": {},
   "outputs": [
    {
     "data": {
      "text/plain": [
       "'PAEADLVC_N_OE_'"
      ]
     },
     "execution_count": 33,
     "metadata": {},
     "output_type": "execute_result"
    }
   ],
   "source": [
    "scytale_cipher(\"PEACE_AND_LOVE\", 6)"
   ]
  },
  {
   "cell_type": "code",
   "execution_count": 25,
   "id": "14e2b22c-9bf4-4c75-add6-fa022484c969",
   "metadata": {},
   "outputs": [],
   "source": [
    "def scytale_decipher(message, shift):\n",
    "    '''Scytale De-cipher.\n",
    "    15 points.\n",
    "    Decrypts a message that was originally encrypted with the `scytale_cipher` function above.\n",
    "    Example:\n",
    "    scytale_decipher(\"IMNNA_FTAOIGROE\", 3) -> \"INFORMATION_AGE\"\n",
    "    scytale_decipher(\"AOTSRIOALRH_EMRNGIMA_PTT\", 8) -> \"ALGORITHMS_ARE_IMPORTANT\"\n",
    "    scytale_decipher(\"IRIANMOGFANEOT__\", 4) -> \"INFORMATION_AGE_\"\n",
    "    There is no further brief for this number.\n",
    "    \n",
    "    Parameters\n",
    "    ----------\n",
    "    message: str\n",
    "        a string of uppercase English letters and underscores (underscores represent spaces)\n",
    "    shift: int\n",
    "        a positive int that does not exceed the length of message\n",
    "    Returns\n",
    "    -------\n",
    "    str\n",
    "        the decoded message\n",
    "'''\n",
    "\n",
    "def scytale_cipher(message, shift):\n",
    "    n = len(message)\n",
    "    columns = n // shift\n",
    "    ciphertext = ['_'] * n\n",
    "    for i in range(n):\n",
    "        row = i//columns\n",
    "        col = i % columns\n",
    "        ciphertext[col * shift + row] = message[i]\n",
    "        \n",
    "    return \"\".join(ciphertext)\n",
    "    \n",
    "def scytale_decipher(ciphertext, shift):\n",
    "    return scytale_cipher(ciphertext,len(ciphertext)//shift)"
   ]
  },
  {
   "cell_type": "code",
   "execution_count": 18,
   "id": "742c3062-38b2-4b17-a02a-7590b1e46fb5",
   "metadata": {},
   "outputs": [
    {
     "data": {
      "text/plain": [
       "'ALGORITHMS_ARE_IMPORTANT'"
      ]
     },
     "execution_count": 18,
     "metadata": {},
     "output_type": "execute_result"
    }
   ],
   "source": [
    "scytale_decipher(\"AOTSRIOALRH_EMRNGIMA_PTT\", 8)"
   ]
  },
  {
   "cell_type": "code",
   "execution_count": 19,
   "id": "e91fc7bb-e82e-4a53-a297-63c84093d9a6",
   "metadata": {},
   "outputs": [
    {
     "data": {
      "text/plain": [
       "'INFORMATION_AGE'"
      ]
     },
     "execution_count": 19,
     "metadata": {},
     "output_type": "execute_result"
    }
   ],
   "source": [
    "scytale_decipher(\"IMNNA_FTAOIGROE\", 3)"
   ]
  },
  {
   "cell_type": "code",
   "execution_count": 26,
   "id": "71f2b043-1c32-4b8d-ad45-82b2225f85d7",
   "metadata": {},
   "outputs": [
    {
     "data": {
      "text/plain": [
       "'MEETING___'"
      ]
     },
     "execution_count": 26,
     "metadata": {},
     "output_type": "execute_result"
    }
   ],
   "source": [
    "scytale_decipher(\"MEIG_ETN__\", 5)"
   ]
  },
  {
   "cell_type": "code",
   "execution_count": 36,
   "id": "175330cb-6bf3-47ef-8265-71bbecd8a786",
   "metadata": {},
   "outputs": [
    {
     "data": {
      "text/plain": [
       "'PLEASE_I_WANT_AN_A__'"
      ]
     },
     "execution_count": 36,
     "metadata": {},
     "output_type": "execute_result"
    }
   ],
   "source": [
    "scytale_decipher(\"PS_T_LEW_AE_AA_AINN_\", 5)"
   ]
  },
  {
   "cell_type": "code",
   "execution_count": 31,
   "id": "a253b4cf-5652-4df3-8870-3b8d60287f16",
   "metadata": {},
   "outputs": [
    {
     "data": {
      "text/plain": [
       "'PEACE_AND_LOVE'"
      ]
     },
     "execution_count": 31,
     "metadata": {},
     "output_type": "execute_result"
    }
   ],
   "source": [
    "scytale_decipher(\"PAEADLVEC_N_OE\", 7)"
   ]
  },
  {
   "cell_type": "code",
   "execution_count": null,
   "id": "38e7136f-124f-4c59-a7e9-75e5e6dc7d9c",
   "metadata": {},
   "outputs": [],
   "source": []
  },
  {
   "cell_type": "code",
   "execution_count": null,
   "id": "8feec745-c95c-4598-a7ad-98e5eaa7a5cc",
   "metadata": {},
   "outputs": [],
   "source": []
  }
 ],
 "metadata": {
  "kernelspec": {
   "display_name": "Python 3 (ipykernel)",
   "language": "python",
   "name": "python3"
  },
  "language_info": {
   "codemirror_mode": {
    "name": "ipython",
    "version": 3
   },
   "file_extension": ".py",
   "mimetype": "text/x-python",
   "name": "python",
   "nbconvert_exporter": "python",
   "pygments_lexer": "ipython3",
   "version": "3.9.12"
  }
 },
 "nbformat": 4,
 "nbformat_minor": 5
}
